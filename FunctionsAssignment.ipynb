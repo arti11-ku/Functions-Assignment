{
  "nbformat": 4,
  "nbformat_minor": 0,
  "metadata": {
    "colab": {
      "provenance": []
    },
    "kernelspec": {
      "name": "python3",
      "display_name": "Python 3"
    },
    "language_info": {
      "name": "python"
    }
  },
  "cells": [
    {
      "cell_type": "markdown",
      "source": [
        "# FUNCTIONS ASSIGNMENT"
      ],
      "metadata": {
        "id": "8g0UKNtTcRYZ"
      }
    },
    {
      "cell_type": "markdown",
      "source": [
        "# THEORY QUESTIONS"
      ],
      "metadata": {
        "id": "R7Ox92qvcpmV"
      }
    },
    {
      "cell_type": "markdown",
      "source": [
        "1. Difference between a function and a method in Python\n",
        "\n",
        "-> A function is a block of code that performs a specific task and can be called independently.\n",
        "\n",
        "A method is a function that is associated with an object and is called using that object.\n",
        "\n",
        "👉 Example: len([1,2,3]) is a function, while [1,2,3].append(4) is a method."
      ],
      "metadata": {
        "id": "KtXHXiwrcv6Q"
      }
    },
    {
      "cell_type": "markdown",
      "source": [
        "2. Function arguments and parameters in Python\n",
        "\n",
        "-> Parameter: A variable defined in the function definition.\n",
        "\n",
        "Argument: The actual value passed when calling the function.\n",
        "\n"
      ],
      "metadata": {
        "id": "r0ESLIG-dpkK"
      }
    },
    {
      "cell_type": "code",
      "source": [
        "#Example:\n",
        "def greet(name):   # name → parameter\n",
        "    print(\"Hello\", name)\n",
        "\n",
        "greet(\"Aarti\")     # \"Aarti\" → argument"
      ],
      "metadata": {
        "colab": {
          "base_uri": "https://localhost:8080/"
        },
        "id": "TEttxIcOdw-M",
        "outputId": "57e2ea1b-59f7-4e84-a590-f2bb563cb14e"
      },
      "execution_count": 2,
      "outputs": [
        {
          "output_type": "stream",
          "name": "stdout",
          "text": [
            "Hello Aarti\n"
          ]
        }
      ]
    },
    {
      "cell_type": "markdown",
      "source": [
        "3. What are the different ways to define and call a function in Python?\n",
        "\n",
        "-> In Python, functions can be defined in two main ways and can be called using different types of arguments."
      ],
      "metadata": {
        "id": "_iny_TJHd3xL"
      }
    },
    {
      "cell_type": "code",
      "source": [
        "#Ways to Define a Function:\n",
        "\n",
        "#Using def keyword (normal function)\n",
        "\n",
        "def add(a, b):\n",
        "    return a + b\n",
        "\n",
        "\n",
        "#Using lambda (anonymous function)\n",
        "\n",
        "square = lambda x: x * x\n"
      ],
      "metadata": {
        "id": "qV7pwL1nfGUw"
      },
      "execution_count": 10,
      "outputs": []
    },
    {
      "cell_type": "code",
      "source": [
        "#Ways to Call a Function:\n",
        "\n",
        "#Positional arguments → values passed in correct order.\n",
        "\n",
        "add(5, 3)   # 8\n",
        "\n",
        "\n",
        "\n"
      ],
      "metadata": {
        "colab": {
          "base_uri": "https://localhost:8080/"
        },
        "id": "BVsvatSFfTye",
        "outputId": "3bcb81a6-7f43-461b-9f9c-35d43251f912"
      },
      "execution_count": 8,
      "outputs": [
        {
          "output_type": "execute_result",
          "data": {
            "text/plain": [
              "8"
            ]
          },
          "metadata": {},
          "execution_count": 8
        }
      ]
    },
    {
      "cell_type": "code",
      "source": [
        "#Keyword arguments → specify parameter names.\n",
        "\n",
        "add(a=5, b=3)"
      ],
      "metadata": {
        "colab": {
          "base_uri": "https://localhost:8080/"
        },
        "id": "2G3bQeeogVAu",
        "outputId": "1f055b2a-fc55-49ee-a7e9-3a1dd7f9a1c9"
      },
      "execution_count": 11,
      "outputs": [
        {
          "output_type": "execute_result",
          "data": {
            "text/plain": [
              "8"
            ]
          },
          "metadata": {},
          "execution_count": 11
        }
      ]
    },
    {
      "cell_type": "code",
      "source": [
        "#Default arguments → use pre-defined values if not given.\n",
        "\n",
        "def greet(name=\"Aarti\"): print(\"Hello\", name)\n",
        "greet()   # Hello Aarti"
      ],
      "metadata": {
        "colab": {
          "base_uri": "https://localhost:8080/"
        },
        "id": "TmoTOdOJgd7c",
        "outputId": "0be23aaf-2431-41cc-bc8b-ea0ab3ab8aaf"
      },
      "execution_count": 12,
      "outputs": [
        {
          "output_type": "stream",
          "name": "stdout",
          "text": [
            "Hello Aarti\n"
          ]
        }
      ]
    },
    {
      "cell_type": "code",
      "source": [
        "#Variable-length arguments (*args, **kwargs) → pass multiple arguments.\n",
        "\n",
        "def total(*args): return sum(args)\n",
        "print(total(1,2,3))  # 6"
      ],
      "metadata": {
        "colab": {
          "base_uri": "https://localhost:8080/"
        },
        "id": "DCwMSCRuglAj",
        "outputId": "2ecbecaa-e460-441d-845a-76968b61e864"
      },
      "execution_count": 13,
      "outputs": [
        {
          "output_type": "stream",
          "name": "stdout",
          "text": [
            "6\n"
          ]
        }
      ]
    },
    {
      "cell_type": "markdown",
      "source": [
        "4. What is the purpose of the return statement in a Python function?\n",
        "\n",
        "->The return statement in Python is used to send a value from the function back to the caller.\n",
        "\n",
        "It ends the execution of the function and gives the result to the place where the function was called.\n",
        "\n",
        "If no return is written, the function automatically returns None."
      ],
      "metadata": {
        "id": "XoKQSh1pfcpo"
      }
    },
    {
      "cell_type": "code",
      "source": [
        "#Example:\n",
        "def add(a, b):\n",
        "    return a + b\n",
        "\n",
        "result = add(5, 3)\n",
        "print(result)   # 8"
      ],
      "metadata": {
        "colab": {
          "base_uri": "https://localhost:8080/"
        },
        "id": "z1dQxK84f2P4",
        "outputId": "76c34938-6e1b-4f2f-9713-e90de9ebbf99"
      },
      "execution_count": 14,
      "outputs": [
        {
          "output_type": "stream",
          "name": "stdout",
          "text": [
            "8\n"
          ]
        }
      ]
    },
    {
      "cell_type": "markdown",
      "source": [
        "5. What are iterators in Python and how do they differ from iterables?\n",
        "\n",
        "->Iterable: An object that can be looped over, like list, tuple, string, etc. It provides an iterator when passed to iter().\n",
        "\n",
        "Iterator: An object that produces elements of an iterable one by one using the next() function.\n",
        "\n",
        "Difference:\n",
        "\n",
        "Iterable contains data (can be traversed).\n",
        "\n",
        "Iterator is used to access that data step by step."
      ],
      "metadata": {
        "id": "RjWVYXBvgyC0"
      }
    },
    {
      "cell_type": "code",
      "source": [
        "#Example:\n",
        "\n",
        "my_list = [1, 2, 3]   # Iterable\n",
        "it = iter(my_list)    # Iterator created\n",
        "\n",
        "print(next(it))  # 1\n",
        "print(next(it))  # 2\n",
        "print(next(it))  # 3\n",
        "\n",
        "\n",
        "# So, every iterator is also an iterable, but not every iterable is an iterator."
      ],
      "metadata": {
        "colab": {
          "base_uri": "https://localhost:8080/"
        },
        "id": "BV-FlCeehElD",
        "outputId": "90491e96-e514-436e-9aa6-bd8188ad4298"
      },
      "execution_count": 15,
      "outputs": [
        {
          "output_type": "stream",
          "name": "stdout",
          "text": [
            "1\n",
            "2\n",
            "3\n"
          ]
        }
      ]
    },
    {
      "cell_type": "markdown",
      "source": [
        "6. Explain the concept of generators in Python and how they are defined.\n",
        "\n",
        "->Generator:\n",
        "\n",
        "A generator in Python is a special type of function that is used to create an iterator. Instead of returning all values at once, a generator produces values one at a time, only when needed (lazy evaluation).\n",
        "\n",
        "How they are defined:\n",
        "\n",
        "Generators are defined like normal functions, but they use the yield keyword instead of return.\n",
        "\n",
        "Each time yield is executed, the function’s state is saved, and execution resumes from there when the next value is requested."
      ],
      "metadata": {
        "id": "g9VDbilXhMaw"
      }
    },
    {
      "cell_type": "code",
      "source": [
        "#Example:\n",
        "\n",
        "def count_up_to(n):\n",
        "    i = 1\n",
        "    while i <= n:\n",
        "        yield i\n",
        "        i += 1\n",
        "\n",
        "# Using the generator\n",
        "for num in count_up_to(5):\n",
        "    print(num)"
      ],
      "metadata": {
        "colab": {
          "base_uri": "https://localhost:8080/"
        },
        "id": "OPbLGuCSheu2",
        "outputId": "638dd009-8b13-4fec-e22d-4164f7549953"
      },
      "execution_count": 16,
      "outputs": [
        {
          "output_type": "stream",
          "name": "stdout",
          "text": [
            "1\n",
            "2\n",
            "3\n",
            "4\n",
            "5\n"
          ]
        }
      ]
    },
    {
      "cell_type": "markdown",
      "source": [
        "7. What are the advantages of using generators over regular functions?\n",
        "\n",
        "->Generators provide several benefits compared to regular functions that return lists or other collections:\n",
        "\n",
        "Memory Efficiency:\n",
        "Generators do not store all values in memory.\n",
        "\n",
        "They produce values one at a time (lazy evaluation), making them suitable for handling large data.\n",
        "\n",
        "Better Performance:\n",
        "Since values are generated on demand, execution is faster and more efficient when working with huge datasets.\n",
        "\n",
        "Infinite Sequences Support:\n",
        "Generators can represent infinite sequences because they yield values one by one without requiring storage.\n",
        "\n",
        "Readable and Simple Code:\n",
        "Writing a generator with yield is often simpler than managing iteration manually with classes and __iter__ / __next__ methods."
      ],
      "metadata": {
        "id": "NdkRKND5hlf6"
      }
    },
    {
      "cell_type": "code",
      "source": [
        "def even_numbers(limit):\n",
        "    for i in range(0, limit+1, 2):\n",
        "        yield i\n",
        "\n",
        "for num in even_numbers(10):\n",
        "    print(num)   # 0 2 4 6 8 10\n"
      ],
      "metadata": {
        "colab": {
          "base_uri": "https://localhost:8080/"
        },
        "id": "q8zoqjVah_Wy",
        "outputId": "bf8461fb-d8cf-464e-8061-b3fdb807d4bc"
      },
      "execution_count": 17,
      "outputs": [
        {
          "output_type": "stream",
          "name": "stdout",
          "text": [
            "0\n",
            "2\n",
            "4\n",
            "6\n",
            "8\n",
            "10\n"
          ]
        }
      ]
    },
    {
      "cell_type": "markdown",
      "source": [
        "8. What is a lambda function in Python and when is it typically used?\n",
        "\n",
        "-> Lambda Function:\n",
        "A lambda function in Python is a small, anonymous function defined using the keyword lambda. It can take any number of arguments but can only have one expression, which is automatically returned.\n",
        "\n",
        "\n",
        "\n",
        "Syntax:\n",
        "\n",
        "lambda arguments: expression"
      ],
      "metadata": {
        "id": "dHj9MJkziEYb"
      }
    },
    {
      "cell_type": "code",
      "source": [
        "#Example:\n",
        "\n",
        "square = lambda x: x * x\n",
        "print(square(5))   # 25\n"
      ],
      "metadata": {
        "colab": {
          "base_uri": "https://localhost:8080/"
        },
        "id": "AzaEaRnRim2H",
        "outputId": "91425ea4-1b85-4226-cb37-2585b581d2a5"
      },
      "execution_count": 18,
      "outputs": [
        {
          "output_type": "stream",
          "name": "stdout",
          "text": [
            "25\n"
          ]
        }
      ]
    },
    {
      "cell_type": "markdown",
      "source": [
        "9. Explain the purpose and usage of the `map()` function in Python.\n",
        "\n",
        "-> Purpose:\n",
        "The map() function in Python is used to apply a function to every item of an iterable (like a list, tuple, etc.) and return a map object (an iterator) containing the results. It helps to perform operations on all items without using loops.\n",
        "\n",
        "Syntax:\n",
        "\n",
        "map(function, iterable)\n",
        "\n",
        "\n",
        "Example:\n",
        "\n",
        "def square(x):\n",
        "\n",
        "    return x * x\n",
        "\n",
        "numbers = [1, 2, 3, 4]\n",
        "\n",
        "squared_numbers = map(square, numbers)\n",
        "\n",
        "print(list(squared_numbers))  # [1, 4, 9, 16]\n",
        "\n",
        "\n",
        "Using with Lambda Function:\n",
        "\n",
        "numbers = [1, 2, 3, 4]\n",
        "\n",
        "squared_numbers = list(map(lambda x: x**2, numbers))\n",
        "\n",
        "print(squared_numbers)  # [1, 4, 9, 16]\n",
        "\n",
        "\n",
        "Key Points:\n",
        "\n",
        "map() returns a map object, so we usually convert it to a list or tuple.\n",
        "\n",
        "Can be used with custom functions or lambda functions.\n",
        "\n",
        "Useful for applying a transformation to all items in an iterable efficiently."
      ],
      "metadata": {
        "id": "DXD6qej9irnW"
      }
    },
    {
      "cell_type": "markdown",
      "source": [
        "\n",
        "\n",
        "10. What is the difference between `map()`, `reduce()`, and `filter()` functions in Python?\n",
        "\n",
        "->Python provides functional programming tools to work efficiently with iterables. Three commonly used functions are map(), filter(), and reduce(), which help perform operations on data without explicit loops.\n",
        "\n",
        "1. map() Function\n",
        "\n",
        "Purpose: Applies a given function to each element of an iterable and returns a map object containing the results.\n",
        "\n",
        "Usage: Used for transforming elements.\n",
        "\n",
        "Example:\n",
        "\n",
        "numbers = [1, 2, 3, 4]\n",
        "\n",
        "squared = list(map(lambda x: x**2, numbers))\n",
        "\n",
        "print(squared)  # [1, 4, 9, 16]\n",
        "\n",
        "2. filter() Function\n",
        "\n",
        "Purpose: Filters elements of an iterable based on a condition. Returns a filter object with elements for which the function returns True.\n",
        "\n",
        "Usage: Used for selecting elements that meet specific criteria.\n",
        "\n",
        "Example:\n",
        "\n",
        "numbers = [1, 2, 3, 4, 5]\n",
        "\n",
        "even_numbers = list(filter(lambda x: x % 2 == 0, numbers))\n",
        "\n",
        "print(even_numbers)  # [2, 4]\n",
        "\n",
        "3. reduce() Function\n",
        "\n",
        "Purpose: Reduces an iterable to a single cumulative value by repeatedly applying a function to pairs of elements.\n",
        "\n",
        "Usage: Used for aggregation operations like sum, product, maximum, etc.\n",
        "\n",
        "Note: reduce() is available in the functools module.\n",
        "\n",
        "Example:\n",
        "\n",
        "from functools import reduce\n",
        "\n",
        "numbers = [1, 2, 3, 4]\n",
        "\n",
        "total = reduce(lambda x, y: x + y, numbers)\n",
        "\n",
        "print(total)  # 10\n",
        "\n",
        "Key Differences:\n",
        "\n",
        "1.map() → changes every element using a function.\n",
        "\n",
        "2.filter() → keeps elements that satisfy a condition.\n",
        "\n",
        "3.reduce() → combines elements into a single value.\n",
        "\n",
        "4.map() and filter() return iterators, while reduce() returns a single value.\n",
        "\n"
      ],
      "metadata": {
        "id": "oDSZpM3zi8K9"
      }
    },
    {
      "cell_type": "markdown",
      "source": [
        "# PRACTICAL QUESTIONS"
      ],
      "metadata": {
        "id": "urOWHxWFjrrd"
      }
    },
    {
      "cell_type": "markdown",
      "source": [
        "1. Write a Python function that takes a list of numbers as input and returns the sum of all even numbers in\n",
        "the list.\n"
      ],
      "metadata": {
        "id": "3jau6J97j7gj"
      }
    },
    {
      "cell_type": "code",
      "source": [
        "def sum_even_numbers(numbers):\n",
        "    \"\"\"\n",
        "    Returns the sum of all even numbers in the given list.\n",
        "    \"\"\"\n",
        "    total = 0\n",
        "    for num in numbers:\n",
        "        if num % 2 == 0:\n",
        "            total += num\n",
        "    return total\n",
        "\n",
        "# Example usage\n",
        "nums = [1, 2, 3, 4, 5, 6]\n",
        "print(\"Sum of even numbers:\", sum_even_numbers(nums))  # Output: 12\n"
      ],
      "metadata": {
        "colab": {
          "base_uri": "https://localhost:8080/"
        },
        "id": "61FC3Y9akViz",
        "outputId": "adaceb88-3fc3-4a89-c097-ffc713e08d29"
      },
      "execution_count": 19,
      "outputs": [
        {
          "output_type": "stream",
          "name": "stdout",
          "text": [
            "Sum of even numbers: 12\n"
          ]
        }
      ]
    },
    {
      "cell_type": "markdown",
      "source": [
        "2. Create a Python function that accepts a string and returns the reverse of that string."
      ],
      "metadata": {
        "id": "65s2tZKikd1a"
      }
    },
    {
      "cell_type": "code",
      "source": [
        "def reverse_string(s):\n",
        "\n",
        "  #  Returns the reverse of the input string.\n",
        "\n",
        "    return s[::-1]\n",
        "\n",
        "# Example usage\n",
        "text = \"Python\"\n",
        "print(\"Reversed string:\", reverse_string(text))  # Output: nohtyP\n"
      ],
      "metadata": {
        "colab": {
          "base_uri": "https://localhost:8080/"
        },
        "id": "eXxGVcHGkhTJ",
        "outputId": "3b84b52c-bdaf-49a8-f1a2-6828ded736e3"
      },
      "execution_count": 20,
      "outputs": [
        {
          "output_type": "stream",
          "name": "stdout",
          "text": [
            "Reversed string: nohtyP\n"
          ]
        }
      ]
    },
    {
      "cell_type": "markdown",
      "source": [
        "3. Implement a Python function that takes a list of integers and returns a new list containing the squares of\n",
        "each number."
      ],
      "metadata": {
        "id": "JD2GFS07kt_8"
      }
    },
    {
      "cell_type": "code",
      "source": [
        "def square_list(numbers):\n",
        "\n",
        "    #Returns a new list with the squares of each number.\n",
        "\n",
        "    return [num**2 for num in numbers]\n",
        "\n",
        "# Example usage\n",
        "nums = [1, 2, 3, 4]\n",
        "print(\"Squares:\", square_list(nums))  # Output: [1, 4, 9, 16]\n"
      ],
      "metadata": {
        "colab": {
          "base_uri": "https://localhost:8080/"
        },
        "id": "WNlw_nswkwBx",
        "outputId": "0ba0bb31-c040-42f6-97f4-5622a992a98a"
      },
      "execution_count": 21,
      "outputs": [
        {
          "output_type": "stream",
          "name": "stdout",
          "text": [
            "Squares: [1, 4, 9, 16]\n"
          ]
        }
      ]
    },
    {
      "cell_type": "markdown",
      "source": [
        "4. Write a Python function that checks if a given number is prime or not from 1 to 200"
      ],
      "metadata": {
        "id": "FV3QGppwk2nd"
      }
    },
    {
      "cell_type": "code",
      "source": [
        "def is_prime(n):\n",
        "    \"\"\"\n",
        "    Returns True if n is a prime number, False otherwise.\n",
        "    \"\"\"\n",
        "    if n <= 1:\n",
        "        return False\n",
        "    for i in range(2, int(n**0.5)+1):\n",
        "        if n % i == 0:\n",
        "            return False\n",
        "    return True\n",
        "\n",
        "# Print prime numbers from 1 to 200\n",
        "for num in range(1, 201):\n",
        "    if is_prime(num):\n",
        "        print(num, end=\" \")\n"
      ],
      "metadata": {
        "colab": {
          "base_uri": "https://localhost:8080/"
        },
        "id": "SuSd3IR3k6aj",
        "outputId": "d55ec4e2-89fc-438f-ed61-1f787daa1907"
      },
      "execution_count": 22,
      "outputs": [
        {
          "output_type": "stream",
          "name": "stdout",
          "text": [
            "2 3 5 7 11 13 17 19 23 29 31 37 41 43 47 53 59 61 67 71 73 79 83 89 97 101 103 107 109 113 127 131 137 139 149 151 157 163 167 173 179 181 191 193 197 199 "
          ]
        }
      ]
    },
    {
      "cell_type": "markdown",
      "source": [
        "5. Create an iterator class in Python that generates the Fibonacci sequence up to a specified number of\n",
        "terms"
      ],
      "metadata": {
        "id": "VxUtUqVmlEaU"
      }
    },
    {
      "cell_type": "code",
      "source": [
        "class Fibonacci:\n",
        "    def __init__(self, n_terms):\n",
        "        self.n_terms = n_terms\n",
        "        self.index = 0\n",
        "        self.a, self.b = 0, 1\n",
        "\n",
        "    def __iter__(self):\n",
        "        return self\n",
        "\n",
        "    def __next__(self):\n",
        "        if self.index >= self.n_terms:\n",
        "            raise StopIteration\n",
        "        if self.index == 0:\n",
        "            self.index += 1\n",
        "            return 0\n",
        "        elif self.index == 1:\n",
        "            self.index += 1\n",
        "            return 1\n",
        "        else:\n",
        "            self.a, self.b = self.b, self.a + self.b\n",
        "            self.index += 1\n",
        "            return self.b\n",
        "\n",
        "# Example usage\n",
        "fib_seq = Fibonacci(10)\n",
        "for num in fib_seq:\n",
        "    print(num, end=\" \")  # Output: 0 1 1 2 3 5 8 13 21 34\n"
      ],
      "metadata": {
        "colab": {
          "base_uri": "https://localhost:8080/"
        },
        "id": "5BakIM3slJYb",
        "outputId": "7f4ecdc3-07ca-4533-e9ed-0ab49de0b536"
      },
      "execution_count": 23,
      "outputs": [
        {
          "output_type": "stream",
          "name": "stdout",
          "text": [
            "0 1 1 2 3 5 8 13 21 34 "
          ]
        }
      ]
    },
    {
      "cell_type": "markdown",
      "source": [
        "6. Write a generator function in Python that yields the powers of 2 up to a given exponent."
      ],
      "metadata": {
        "id": "XnfZJwXQld_V"
      }
    },
    {
      "cell_type": "code",
      "source": [
        "def powers_of_two(n):\n",
        "    \"\"\"\n",
        "    Generator function that yields powers of 2 from 2^0 up to 2^n.\n",
        "    \"\"\"\n",
        "    for i in range(n + 1):\n",
        "        yield 2 ** i\n",
        "\n",
        "# Example usage\n",
        "for value in powers_of_two(5):\n",
        "    print(value, end=\" \")  # Output: 1 2 4 8 16 32\n"
      ],
      "metadata": {
        "colab": {
          "base_uri": "https://localhost:8080/"
        },
        "id": "RtyKzWlelhLC",
        "outputId": "94a1a73e-56dc-4bf1-a1de-9f87139c9ac9"
      },
      "execution_count": 24,
      "outputs": [
        {
          "output_type": "stream",
          "name": "stdout",
          "text": [
            "1 2 4 8 16 32 "
          ]
        }
      ]
    },
    {
      "cell_type": "markdown",
      "source": [
        "7. Implement a generator function that reads a file line by line and yields each line as a string."
      ],
      "metadata": {
        "id": "h3dmTqidlwo9"
      }
    },
    {
      "cell_type": "code",
      "source": [
        "def read_file_line_by_line(filename):\n",
        "    \"\"\"\n",
        "    Generator function that yields each line of the file as a string.\n",
        "    \"\"\"\n",
        "    with open(filename, 'r') as file:\n",
        "        for line in file:\n",
        "            yield line.strip()  # remove newline character\n",
        "\n",
        "# Example usage\n",
        "# Assuming a file 'sample.txt' exists\n",
        "# for line in read_file_line_by_line('sample.txt'):\n",
        "#     print(line)\n"
      ],
      "metadata": {
        "id": "XFMsoT4zlx6z"
      },
      "execution_count": 28,
      "outputs": []
    },
    {
      "cell_type": "markdown",
      "source": [
        "8. Use a lambda function in Python to sort a list of tuples based on the second element of each tuple."
      ],
      "metadata": {
        "id": "X-DhqXG3l3-w"
      }
    },
    {
      "cell_type": "code",
      "source": [
        "# List of tuples\n",
        "data = [(1, 5), (3, 2), (4, 9), (2, 1)]\n",
        "\n",
        "# Sort by second element using lambda\n",
        "sorted_data = sorted(data, key=lambda x: x[1])\n",
        "print(sorted_data)  # Output: [(2, 1), (3, 2), (1, 5), (4, 9)]\n"
      ],
      "metadata": {
        "colab": {
          "base_uri": "https://localhost:8080/"
        },
        "id": "NbvhWb1ul6Ki",
        "outputId": "2f0fa358-fe5e-46f0-ca60-a39a2e9e67ad"
      },
      "execution_count": 26,
      "outputs": [
        {
          "output_type": "stream",
          "name": "stdout",
          "text": [
            "[(2, 1), (3, 2), (1, 5), (4, 9)]\n"
          ]
        }
      ]
    },
    {
      "cell_type": "markdown",
      "source": [
        "9. Write a Python program that uses `map()` to convert a list of temperatures from Celsius to Fahrenheit."
      ],
      "metadata": {
        "id": "x401XWgDl_mH"
      }
    },
    {
      "cell_type": "code",
      "source": [
        "# Function to convert Celsius to Fahrenheit\n",
        "def c_to_f(c):\n",
        "    return (c * 9/5) + 32\n",
        "\n",
        "temperatures_c = [0, 20, 37, 100]\n",
        "temperatures_f = list(map(c_to_f, temperatures_c))\n",
        "print(temperatures_f)  # Output: [32.0, 68.0, 98.6, 212.0]\n"
      ],
      "metadata": {
        "colab": {
          "base_uri": "https://localhost:8080/"
        },
        "id": "dxqt3K4ImBs1",
        "outputId": "3e658f32-255d-4ed0-c2be-c44eef6cfcf1"
      },
      "execution_count": 29,
      "outputs": [
        {
          "output_type": "stream",
          "name": "stdout",
          "text": [
            "[32.0, 68.0, 98.6, 212.0]\n"
          ]
        }
      ]
    },
    {
      "cell_type": "markdown",
      "source": [
        "10. Create a Python program that uses `filter()` to remove all the vowels from a given string."
      ],
      "metadata": {
        "id": "wG1gA8hDmFx6"
      }
    },
    {
      "cell_type": "code",
      "source": [
        "def remove_vowels(s):\n",
        "    \"\"\"\n",
        "    Removes all vowels from the given string using filter.\n",
        "    \"\"\"\n",
        "    vowels = \"aeiouAEIOU\"\n",
        "    return ''.join(filter(lambda x: x not in vowels, s))\n",
        "\n",
        "# Example usage\n",
        "text = \"Hello World\"\n",
        "print(remove_vowels(text))  # Output: Hll Wrld\n"
      ],
      "metadata": {
        "colab": {
          "base_uri": "https://localhost:8080/"
        },
        "id": "BK1eiAuPmGmT",
        "outputId": "c73ab45f-b333-4363-a37c-ce455fad7ead"
      },
      "execution_count": 30,
      "outputs": [
        {
          "output_type": "stream",
          "name": "stdout",
          "text": [
            "Hll Wrld\n"
          ]
        }
      ]
    },
    {
      "cell_type": "markdown",
      "source": [
        "11. Imagine an accounting routine used in a book shop. It works on a list with sublists, which look like this:\n",
        "(Cann't copy the image)\n",
        "\n",
        "Write a Python program, which returns a list with 2-tuples. Each tuple consists of the order number and the\n",
        "product of the price per item and the quantity. The product should be increased by 10,- € if the value of the\n",
        "order is smaller than 100,00 €.\n",
        "\n",
        "Write a Python program using lambda and map."
      ],
      "metadata": {
        "id": "WEjkRvphmTmb"
      }
    },
    {
      "cell_type": "code",
      "source": [
        "# Data: [OrderNo, Title, Author, Quantity, PricePerItem]\n",
        "orders = [\n",
        "    [34587, \"Learning Python\", \"Mark Lutz\", 4, 40.95],\n",
        "    [98762, \"Programming Python\", \"Mark Lutz\", 5, 56.80],\n",
        "    [77226, \"Head First Python\", \"Paul Barry\", 3, 32.95],\n",
        "    [88112, \"Einführung in Python3\", \"Bernd Klein\", 3, 24.99]\n",
        "]\n",
        "\n",
        "# Use map + lambda\n",
        "invoice = list(map(lambda x: (x[0], x[3] * x[4] if x[3] * x[4] >= 100 else x[3] * x[4] + 10), orders))\n",
        "\n",
        "print(invoice)"
      ],
      "metadata": {
        "colab": {
          "base_uri": "https://localhost:8080/"
        },
        "id": "pTpkfiCDmhVt",
        "outputId": "01997102-0d80-487e-8b7c-68a80af6571b"
      },
      "execution_count": 31,
      "outputs": [
        {
          "output_type": "stream",
          "name": "stdout",
          "text": [
            "[(34587, 163.8), (98762, 284.0), (77226, 108.85000000000001), (88112, 84.97)]\n"
          ]
        }
      ]
    }
  ]
}